{
  "nbformat": 4,
  "nbformat_minor": 0,
  "metadata": {
    "colab": {
      "name": "Simple PCA (Image) with K-Fold.ipynb",
      "provenance": []
    },
    "kernelspec": {
      "name": "python3",
      "display_name": "Python 3"
    },
    "language_info": {
      "name": "python"
    }
  },
  "cells": [
    {
      "cell_type": "markdown",
      "source": [
        "#### Proses PCA dibagi menjadi 3 tahapan (poin) utama yaitu:\n",
        "\n",
        "1. Split data dengan K-Fold\n",
        "2. Proses PCA (mengambil bobot dan proyeksi matriks dari data train)\n",
        "3. Proses Testing dan hasil akurasi"
      ],
      "metadata": {
        "id": "VFcmpCbL4-PB"
      }
    },
    {
      "cell_type": "markdown",
      "source": [
        "Tahapan lengkapnya (PCA) ada dibawah ini:\n",
        "1. Import data image dari github\n",
        "2. Membagi dataset menjadi data train dan test dengan K-Fold\n",
        "3. Proses PCA, mengambil bobot dan proyeksi matriks dari data training\n",
        "4. Menghitung bobot data test\n",
        "5. Menghitung jarak dari bobot data test dengan data train\n",
        "6. Mencari posisi data test (orang ke, pose ke)\n",
        "7. Menghitung akurasi dari posisi data test dengan data asli\n"
      ],
      "metadata": {
        "id": "aXsSJmvQ5pmS"
      }
    },
    {
      "cell_type": "markdown",
      "source": [
        "# Import image from Github"
      ],
      "metadata": {
        "id": "B6Fss-LB4p0i"
      }
    },
    {
      "cell_type": "code",
      "execution_count": null,
      "metadata": {
        "id": "rtKj4DwA_fuT"
      },
      "outputs": [],
      "source": [
        "_ = !git clone https://github.com/AchmadBauravindah/datas_for_ai.git"
      ]
    },
    {
      "cell_type": "code",
      "source": [
        "import cv2 # Untuk mengambil pixel dari image\n",
        "import pandas as pd # Membantu membuat dataframe\n",
        "import numpy as np # Membantu proses operasi matriks dan matematika\n",
        "from sklearn.model_selection import KFold # Membantu split data sebanyak k fold\n",
        "from sklearn.metrics.pairwise import manhattan_distances # Membantu mencari jarak manhattan\n",
        "import math # Membantu proses operasi matematika"
      ],
      "metadata": {
        "id": "ujZkWRGH_mJT"
      },
      "execution_count": null,
      "outputs": []
    },
    {
      "cell_type": "markdown",
      "source": [
        "# 1. K-Fold"
      ],
      "metadata": {
        "id": "b9-CCUI-BL1h"
      }
    },
    {
      "cell_type": "code",
      "source": [
        "# K-FOLD\n",
        "path = \"datas_for_ai/biometrika/orl_face/\"\n",
        "\n",
        "def k_fold_split():\n",
        "  jumlah_orang = 40 # Jumlah orang pada data orl\n",
        "  jumlah_pose = 10 # Jumlah pose pada data orl\n",
        "\n",
        "  nama_file_depan = 'ORL_'\n",
        "  nama_file_belakang = '.jpg'\n",
        "\n",
        "  dataset_train_face = [] # Menyimpan matriks data train semua fold\n",
        "  dataset_test_face = [] # Menyimpan matriks data test semua fold\n",
        "\n",
        "  kf = KFold(n_splits=5) # Menentukan jumlah fold\n",
        "\n",
        "  split_pose = np.linspace(1, 10, 10) # Membuat array untuk identifier indeks pose\n",
        "\n",
        "  fold_ke = 1\n",
        "  for train_i, test_i in kf.split(split_pose): # Proses K-FOLD\n",
        "    print(\"Indeks Fold Ke - {}\".format(fold_ke), train_i, test_i)\n",
        "    fold_ke +=1\n",
        "    # Agar indeks mulai dari 1\n",
        "    train_i = train_i + 1\n",
        "    test_i = test_i + 1\n",
        "    train_face = [] # Menyimpan data train per fold\n",
        "    test_face = [] # Menyimpan data test per fold\n",
        "    for orang_ke in np.linspace(1, 40, 40).astype(np.int8): # Orang (40 Orang)\n",
        "      for pose_ke in np.linspace(1, 10, 10).astype(np.int8): # Pose (10 Pose)\n",
        "        if pose_ke in train_i:\n",
        "          nama_file = nama_file_depan + str(orang_ke) + '_' + str(pose_ke) + nama_file_belakang\n",
        "          nama_file = path + nama_file\n",
        "          img = cv2.imread(nama_file, 0)\n",
        "          # print(\"Shape of image\", img.shape)\n",
        "          high_level_img = img.reshape(-1)\n",
        "          train_face.append(high_level_img)\n",
        "        else:\n",
        "          nama_file = nama_file_depan + str(orang_ke) + '_' + str(pose_ke) + nama_file_belakang\n",
        "          nama_file = path + nama_file\n",
        "          img = cv2.imread(nama_file, 0)\n",
        "          high_level_img = img.reshape(-1)\n",
        "          test_face.append(high_level_img)\n",
        "    dataset_train_face.append(train_face)\n",
        "    dataset_test_face.append(test_face)\n",
        "  return dataset_train_face, dataset_test_face\n",
        "        "
      ],
      "metadata": {
        "id": "go9gznXn_nb2"
      },
      "execution_count": null,
      "outputs": []
    },
    {
      "cell_type": "markdown",
      "source": [
        "### Proses split dataset sebanyak 5 Fold"
      ],
      "metadata": {
        "id": "8LlYjhsI8RaQ"
      }
    },
    {
      "cell_type": "code",
      "source": [
        "train, test = k_fold_split()"
      ],
      "metadata": {
        "id": "N8tZP7cl_90i",
        "colab": {
          "base_uri": "https://localhost:8080/"
        },
        "outputId": "288eb65b-bd0f-470d-bba4-472868fd6de0"
      },
      "execution_count": null,
      "outputs": [
        {
          "output_type": "stream",
          "name": "stdout",
          "text": [
            "Indeks Fold Ke - 1 [2 3 4 5 6 7 8 9] [0 1]\n",
            "Indeks Fold Ke - 2 [0 1 4 5 6 7 8 9] [2 3]\n",
            "Indeks Fold Ke - 3 [0 1 2 3 6 7 8 9] [4 5]\n",
            "Indeks Fold Ke - 4 [0 1 2 3 4 5 8 9] [6 7]\n",
            "Indeks Fold Ke - 5 [0 1 2 3 4 5 6 7] [8 9]\n"
          ]
        }
      ]
    },
    {
      "cell_type": "markdown",
      "source": [
        "# 2. PCA"
      ],
      "metadata": {
        "id": "jNhkTNz9BQ6g"
      }
    },
    {
      "cell_type": "code",
      "source": [
        "def PCA(data):\n",
        "  # 1. Ukuran Data\n",
        "  (baris, kolom) = data.shape\n",
        "  # 2. Hitung Rata-rata\n",
        "  average = np.mean(data, axis = 0)\n",
        "  # 3. Hitung Zero Mean\n",
        "  data_ganda = np.tile(average, (baris, 1)) # np.tile(data yang di repeat, (jumlah repeat, 1: axis y))\n",
        "  zero_mean = data - data_ganda\n",
        "  # 4. Hitung Kovarian\n",
        "  cov_matrix = (1/(baris-1)) * zero_mean @ np.transpose(zero_mean)\n",
        "  # 5. Hitung eigen vektor dan eigen value\n",
        "  [eigen_value, eigen_vector] = np.linalg.eig(cov_matrix)\n",
        "  # 6. Hitung Proyeksi Matriks\n",
        "  matrix_projection = np.transpose(zero_mean) @ eigen_vector\n",
        "  matrix_projection = np.transpose(matrix_projection)\n",
        "  # 7. Hitung Matrix Bobot\n",
        "  matrix_weight = data @ np.transpose(matrix_projection)\n",
        "  # print(\"Zero Mean : \", zero_mean.shape)\n",
        "  # print(\"Kovarian : \", cov_matrix.shape)\n",
        "  # print(\"Eigen Value : \", eigen_value.shape)\n",
        "  # print(\"Eigen Vektor : \", eigen_vector.shape)\n",
        "  # print(\"Proyeksi Matriks : \", matrix_projection.shape)\n",
        "  # print(\"Bobot Matriks : \", matrix_weight.shape)\n",
        "  return matrix_projection, matrix_weight"
      ],
      "metadata": {
        "id": "ltZDd7-gBGwx"
      },
      "execution_count": null,
      "outputs": []
    },
    {
      "cell_type": "markdown",
      "source": [
        "# 3. Proses Testing dan Hasil Akurasi"
      ],
      "metadata": {
        "id": "T-Hyb_ks4rCO"
      }
    },
    {
      "cell_type": "markdown",
      "source": [
        "### - Mendapatkan Weight Data Test\n",
        "*weight data test = data test * transpose(proyeksi matriks data train)*\n"
      ],
      "metadata": {
        "id": "sf_2B0do-LGx"
      }
    },
    {
      "cell_type": "code",
      "source": [
        "def getWeightDataTest(data_test, projection_matrices):\n",
        "  weight = data_test @ np.transpose(projection_matrices)\n",
        "  return weight # keluaranya matrix 1x320"
      ],
      "metadata": {
        "id": "mOH-96R6GStq"
      },
      "execution_count": null,
      "outputs": []
    },
    {
      "cell_type": "markdown",
      "source": [
        "### - Mendapatkan jarak terdekat dari data test\n",
        "*jarak = data test weight - data train weight*"
      ],
      "metadata": {
        "id": "et1Ww3qP_wzb"
      }
    },
    {
      "cell_type": "code",
      "source": [
        "def getDistances(data_test_weight, data_train_weights):\n",
        "  manhattan_result = []\n",
        "  for data_train_weight in data_train_weights:\n",
        "    hasil = manhattan_distances(data_test_weight.reshape(1, -1), data_train_weight.reshape(1, -1))\n",
        "    manhattan_result.append(hasil)\n",
        "  return manhattan_result"
      ],
      "metadata": {
        "id": "-MPGi4UE3UUW"
      },
      "execution_count": null,
      "outputs": []
    },
    {
      "cell_type": "markdown",
      "source": [
        "### - Mendapatkan jarak minimum dari hasil jarak terdekat\n",
        "*jarak minimum = min(jarak)*"
      ],
      "metadata": {
        "id": "RtDxrxkMAQHv"
      }
    },
    {
      "cell_type": "code",
      "source": [
        "def getMinimumIndexDistances(distances):\n",
        "    minimum_index_distances = np.argmin(distances)\n",
        "    return minimum_index_distances"
      ],
      "metadata": {
        "id": "C0qNezvnRorf"
      },
      "execution_count": null,
      "outputs": []
    },
    {
      "cell_type": "markdown",
      "source": [
        "### - Mendapatkan posisi image data test\n",
        "\n",
        "*posisi image = orang ke, pose ke*"
      ],
      "metadata": {
        "id": "94NCtE4ZAig9"
      }
    },
    {
      "cell_type": "code",
      "source": [
        "def getPositionImage(distances):\n",
        "  jumlah_pose = 8 # setelah di fold data menjadi 8 pose\n",
        "  baris_ke = getMinimumIndexDistances(distances) # Baris ke berapa dalam dataset 320 itu\n",
        "  orang_ke = int(math.ceil(baris_ke/jumlah_pose)) # 0.1 atau 0.9 akan menjadi 1 karena math.ceil\n",
        "  pose_ke = np.mod(baris_ke, jumlah_pose) # Pose ke berapa dalam 8 pose tiap orang itu\n",
        "  if pose_ke == 0:\n",
        "    pose_ke = jumlah_pose\n",
        "  return orang_ke, pose_ke"
      ],
      "metadata": {
        "id": "UUs5ecuoH-8f"
      },
      "execution_count": null,
      "outputs": []
    },
    {
      "cell_type": "markdown",
      "source": [
        "### - Proses testing PCA\n",
        "*PCA Results akan menghasilkan posisi image pada data test*"
      ],
      "metadata": {
        "id": "mOuUeBXVD2Qv"
      }
    },
    {
      "cell_type": "code",
      "source": [
        "def testingPCA(data_tests, data_train_projection, data_train_weights):\n",
        "  PCA_Results = []\n",
        "\n",
        "  # Mengambil Data Test fold ke-5\n",
        "  for data_test in data_tests:\n",
        "    # Mendapatkan weight dari data test\n",
        "    data_test_weight = getWeightDataTest(data_test, data_train_projection)\n",
        "\n",
        "    # distance : weight data test (1x320) - weight data train (320x320)\n",
        "    distances = getDistances(data_test_weight, data_train_weights)\n",
        "\n",
        "    # Menghitung jarak terdekat\n",
        "    orang_ke, pose_ke = getPositionImage(distances)\n",
        "    PCA_Results.append([orang_ke, pose_ke])\n",
        "\n",
        "  PCA_Results = np.array(PCA_Results)\n",
        "  return PCA_Results"
      ],
      "metadata": {
        "id": "HL-kjCvVD_EA"
      },
      "execution_count": null,
      "outputs": []
    },
    {
      "cell_type": "markdown",
      "source": [
        "### - Mendapatkan Hasil Akurasi PCA semua Fold (5 Fold)\n",
        "*Mendapatkan akurasi dari hasil testing*"
      ],
      "metadata": {
        "id": "kWc9lDEpGMJp"
      }
    },
    {
      "cell_type": "code",
      "source": [
        "def getAccuracyPCA(hasil_test_PCA):\n",
        "  # Membuat array untuk kelas asli, jika di data test ada 2 pose maka kelas ke-1 memiliki 2 pose (1, 1)\n",
        "  kelas_asli = (np.linspace(1, 40, 40).astype(int))\n",
        "  kelas_asli = np.repeat(kelas_asli, 2)\n",
        "\n",
        "  # Mendapatkan hasil kelas (orang_ke) apa dari hasil PCA\n",
        "  kelas_test = hasil_test_PCA[:, [0]]  \n",
        "\n",
        "  akurasi = ((kelas_asli != kelas_test).sum()) / np.size(kelas_asli)\n",
        "  return akurasi"
      ],
      "metadata": {
        "id": "A3iLKP6lEiOy"
      },
      "execution_count": null,
      "outputs": []
    },
    {
      "cell_type": "markdown",
      "source": [
        "*Menyimpan hasil PCA*"
      ],
      "metadata": {
        "id": "U2-PTcPgCBvE"
      }
    },
    {
      "cell_type": "code",
      "source": [
        "hasil_test_PCA_semua_fold = [] # array untuk simpan hasil PCA tiap fold"
      ],
      "metadata": {
        "id": "nesv3CBaCLaG"
      },
      "execution_count": null,
      "outputs": []
    },
    {
      "cell_type": "markdown",
      "source": [
        "*Mendapatkan hasil PCA semua Fold (5 Fold)*"
      ],
      "metadata": {
        "id": "ZTBGZvUjCMqp"
      }
    },
    {
      "cell_type": "code",
      "source": [
        "for data_train_per_fold, data_test_per_fold in zip(train, test):\n",
        "  data_train = np.array(data_train_per_fold) # Ubah list biasa menjadi list numpy\n",
        "  data_test = np.array(data_test_per_fold) # Ubah list biasa menjadi list numpy\n",
        "\n",
        "  projection_train, weight_train = PCA(data_train) # Mendapatkan proyeksi dan bobot data train\n",
        "\n",
        "  hasil_test_PCA = testingPCA(data_test, projection_train, weight_train) # Mendapatkan hasil PCA yang berisi array orang_ke, pose_ke\n",
        "  hasil_test_PCA_semua_fold.append(hasil_test_PCA) # Menyimpan hasil PCA data test"
      ],
      "metadata": {
        "id": "sBgrI_gJGLvW"
      },
      "execution_count": null,
      "outputs": []
    },
    {
      "cell_type": "markdown",
      "source": [
        "*Menampilkan hasil akurasi PCA semua Fold (5 Fold)*"
      ],
      "metadata": {
        "id": "-Fjws-1aCaXF"
      }
    },
    {
      "cell_type": "code",
      "source": [
        "fold = 1 # Fold dimulai dari fold 1\n",
        "for hasil_test_PCA_per_fold in hasil_test_PCA_semua_fold:\n",
        "  print(\"Fold - {} = \".format(fold), getAccuracyPCA(hasil_test_PCA_per_fold))\n",
        "  fold+=1"
      ],
      "metadata": {
        "colab": {
          "base_uri": "https://localhost:8080/"
        },
        "id": "4rXr1352QGNm",
        "outputId": "02e2f92f-3188-4dc8-b455-27867d0ee489"
      },
      "execution_count": null,
      "outputs": [
        {
          "output_type": "stream",
          "name": "stdout",
          "text": [
            "Fold - 1 =  78.0\n",
            "Fold - 2 =  78.0\n",
            "Fold - 3 =  78.0\n",
            "Fold - 4 =  78.025\n",
            "Fold - 5 =  78.0\n"
          ]
        }
      ]
    },
    {
      "cell_type": "markdown",
      "source": [
        "### Mendapatkan image dari orang ke, pose ke"
      ],
      "metadata": {
        "id": "RcTinXauFToI"
      }
    },
    {
      "cell_type": "code",
      "source": [
        "def getImage(orang_ke, pose_ke):\n",
        "  nama_file_depan = 'ORL_'\n",
        "  nama_file_belakang = '.jpg'\n",
        "  nama_file = nama_file_depan + str(orang_ke) + '_' + str(pose_ke) + nama_file_belakang\n",
        "  nama_file = path + nama_file\n",
        "  img = cv2.imread(nama_file, 0)\n",
        "  return img"
      ],
      "metadata": {
        "id": "sx8O9sHtFbVH"
      },
      "execution_count": null,
      "outputs": []
    },
    {
      "cell_type": "markdown",
      "source": [
        "### Contoh 1 sampel\n",
        "###### data test : orang ke - 1, pose ke - 7 \n",
        "###### data asli : orang ke - 1, pose ke - 1"
      ],
      "metadata": {
        "id": "O1V6IlpQCrRx"
      }
    },
    {
      "cell_type": "code",
      "source": [
        "import sys\n",
        "import numpy as np\n",
        "from matplotlib import pyplot as plt\n",
        "from IPython.display import Image\n",
        "\n",
        "hasil_test_PCA_fold_5 = hasil_test_PCA_semua_fold[4]\n",
        "\n",
        "# Image Test\n",
        "orang_ke = hasil_test_PCA_fold_5[0][0]\n",
        "pose_ke = hasil_test_PCA_fold_5[0][1]\n",
        "image = getImage(orang_ke, pose_ke)\n",
        "plt.imshow(image, cmap=plt.get_cmap('gray'))\n",
        "plt.title('Image Test Orang Ke - {} dan Pose Ke - {}'.format(orang_ke, pose_ke)), plt.xticks([]), plt.yticks([])\n",
        "plt.show()\n",
        "\n",
        "# Image Asli\n",
        "orang_ke = 1\n",
        "pose_ke = 1\n",
        "image = getImage(orang_ke, pose_ke)\n",
        "plt.imshow(image, cmap=plt.get_cmap('gray'))\n",
        "plt.title('Image Asli Orang Ke - {} dan Pose Ke - {}'.format(orang_ke, pose_ke)), plt.xticks([]), plt.yticks([])\n",
        "plt.show()\n"
      ],
      "metadata": {
        "colab": {
          "base_uri": "https://localhost:8080/",
          "height": 519
        },
        "id": "bhMSuuCADSr-",
        "outputId": "6df0b81a-854d-40a2-f074-742eef4a0218"
      },
      "execution_count": null,
      "outputs": [
        {
          "output_type": "display_data",
          "data": {
            "text/plain": [
              "<Figure size 432x288 with 1 Axes>"
            ],
            "image/png": "[encoded data removed]"
          },
          "metadata": {}
        },
        {
          "output_type": "display_data",
          "data": {
            "text/plain": [
              "<Figure size 432x288 with 1 Axes>"
            ],
            "image/png": "[encoded data removed]"
          },
          "metadata": {}
        }
      ]
    }
  ]
}